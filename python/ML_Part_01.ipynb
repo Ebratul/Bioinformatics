{
  "nbformat": 4,
  "nbformat_minor": 0,
  "metadata": {
    "colab": {
      "provenance": [],
      "authorship_tag": "ABX9TyOf0IsV/zuWIVwBKD5EW82z",
      "include_colab_link": true
    },
    "kernelspec": {
      "name": "python3",
      "display_name": "Python 3"
    },
    "language_info": {
      "name": "python"
    }
  },
  "cells": [
    {
      "cell_type": "markdown",
      "metadata": {
        "id": "view-in-github",
        "colab_type": "text"
      },
      "source": [
        "<a href=\"https://colab.research.google.com/github/Ebratul/Bioinformatics/blob/main/python/ML_Part_01.ipynb\" target=\"_parent\"><img src=\"https://colab.research.google.com/assets/colab-badge.svg\" alt=\"Open In Colab\"/></a>"
      ]
    },
    {
      "cell_type": "code",
      "execution_count": 1,
      "metadata": {
        "colab": {
          "base_uri": "https://localhost:8080/"
        },
        "id": "V8i0c-xL4Z1-",
        "outputId": "ade6e9de-cbd1-498c-857b-d90770bd0088"
      },
      "outputs": [
        {
          "output_type": "stream",
          "name": "stdout",
          "text": [
            "6000\n",
            "<class 'int'>\n"
          ]
        }
      ],
      "source": [
        "a=2000\n",
        "b=4000\n",
        "c=a+b\n",
        "print(c)\n",
        "print(type(c))"
      ]
    },
    {
      "cell_type": "code",
      "source": [],
      "metadata": {
        "id": "fLFQ3opR5bI2"
      },
      "execution_count": null,
      "outputs": []
    }
  ]
}